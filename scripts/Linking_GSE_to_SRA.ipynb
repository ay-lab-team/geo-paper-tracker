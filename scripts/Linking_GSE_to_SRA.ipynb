{
 "cells": [
  {
   "cell_type": "code",
   "execution_count": 1,
   "id": "ee429c1c",
   "metadata": {},
   "outputs": [
    {
     "name": "stderr",
     "output_type": "stream",
     "text": [
      "/mnt/BioHome/jreyna/software/anaconda3/hichip-db/lib/python3.10/site-packages/pysradb/utils.py:14: TqdmWarning: IProgress not found. Please update jupyter and ipywidgets. See https://ipywidgets.readthedocs.io/en/stable/user_install.html\n",
      "  from tqdm.autonotebook import tqdm\n"
     ]
    }
   ],
   "source": [
    "import os \n",
    "import argparse\n",
    "import GEOparse\n",
    "import pandas as pd\n",
    "import numpy as np\n",
    "import pysradb\n",
    "import subprocess as sp\n",
    "\n",
    "import ssl\n",
    "ssl._create_default_https_context = ssl._create_unverified_context\n",
    "\n",
    "gse_id = 'GSE101498'\n",
    "gse_id = 'GSE178598'\n",
    "gse_id = 'GSE151193'\n",
    "gse_id = 'GSE133227'\n",
    "gse_id = 'GSE147854'\n",
    "gse_id = 'GSE173699'\n",
    "gse_id = 'GSE147646'\n",
    "gse_id = 'GSE136090'\n",
    "gse_id = 'GSE154512'\n",
    "gse_id = 'GSE190690' # not pubished yet\n",
    "gse_id = 'GSE179755'\n",
    "gse_id = 'GSE166232'\n",
    "gse_id = 'GSE116193'"
   ]
  },
  {
   "cell_type": "markdown",
   "id": "703c784e",
   "metadata": {},
   "source": [
    "## Setting the output path"
   ]
  },
  {
   "cell_type": "code",
   "execution_count": 2,
   "id": "3975a1bc",
   "metadata": {},
   "outputs": [],
   "source": [
    "# # make an output directory\n",
    "outdir = 'results/hichip_db/gse/'\n",
    "os.makedirs(outdir, exist_ok=True)\n",
    "\n",
    "# setting the output filename\n",
    "output = os.path.join(outdir, \"GSE_Query.{}.tsv\".format(gse_id))"
   ]
  },
  {
   "cell_type": "code",
   "execution_count": 3,
   "id": "d34fb51b",
   "metadata": {},
   "outputs": [
    {
     "name": "stdout",
     "output_type": "stream",
     "text": [
      "Writing the output to: \"results/hichip_db/gse/GSE_Query.GSE116193.tsv\".\n"
     ]
    }
   ],
   "source": [
    "print('Writing the output to: \"{}\".'.format(output))"
   ]
  },
  {
   "cell_type": "markdown",
   "id": "7a5646b2",
   "metadata": {},
   "source": [
    "## Query GEO for GSE metadata"
   ]
  },
  {
   "cell_type": "code",
   "execution_count": 4,
   "id": "2c823d50",
   "metadata": {},
   "outputs": [],
   "source": [
    "# query the current GSE ID\n",
    "geo_query = GEOparse.get_GEO(geo=gse_id, destdir=outdir, include_data=True, silent=True)"
   ]
  },
  {
   "cell_type": "code",
   "execution_count": 5,
   "id": "35f23f76",
   "metadata": {},
   "outputs": [],
   "source": [
    "# parse through the information and make a useful table\n",
    "gsm_data = []\n",
    "for gsm_id, gsm in geo_query.gsms.items():\n",
    "    \n",
    "    title = '; '.join(gsm.metadata['title'])\n",
    "    organism = ', '.join(gsm.metadata['organism_ch1'])\n",
    "    source = ', '.join(gsm.metadata['source_name_ch1'])\n",
    "    \n",
    "    if 'description' in gsm.metadata:\n",
    "        description = '; '.join(gsm.metadata['description'])\n",
    "    else:\n",
    "        description = ''\n",
    "\n",
    "    \n",
    "    for sra_link in gsm.relations['SRA']:\n",
    "        # extracting the title, organism, source and description\n",
    "        info = [gse_id,\n",
    "                gsm_id,\n",
    "                title,\n",
    "                organism,\n",
    "                source,\n",
    "                description,\n",
    "                sra_link]\n",
    "        gsm_data.append(info)\n",
    "\n",
    "gsm_data = pd.DataFrame(gsm_data)\n",
    "gsm_data.columns = ['geo_id', 'gsm_id', 'title', 'organism', 'source', 'description', 'srx_link']\n",
    "\n",
    "# extract SRA ID's\n",
    "sra_ids = gsm_data['srx_link'].str.extract('(SRX[0-9]+)').squeeze()\n",
    "gsm_data['srx_id'] = sra_ids"
   ]
  },
  {
   "cell_type": "code",
   "execution_count": 6,
   "id": "c88d78c8",
   "metadata": {},
   "outputs": [],
   "source": [
    "# loading the SRA tool\n",
    "sra_querytool = pysradb.sraweb.SRAweb()\n",
    "\n",
    "# query the SRA \n",
    "sra_query = sra_querytool.sra_metadata(gsm_data['srx_id'].values.tolist(), expand_sample_attributes=True)"
   ]
  },
  {
   "cell_type": "code",
   "execution_count": 7,
   "id": "097bfe60",
   "metadata": {
    "scrolled": false
   },
   "outputs": [],
   "source": [
    "meta = pd.merge(gsm_data,\n",
    "                sra_query, left_on='srx_id',\n",
    "                right_on='experiment_accession',\n",
    "                suffixes=['_geo', '_sra'])\n",
    "\n",
    "# calculating the number reads using the total number of spots\n",
    "meta.loc[:, 'num_reads'] = meta.loc[:, 'total_spots'].astype(int) * 2"
   ]
  },
  {
   "cell_type": "markdown",
   "id": "dcf4d28a",
   "metadata": {},
   "source": [
    "## Save the merged dataframe with all fields"
   ]
  },
  {
   "cell_type": "code",
   "execution_count": 8,
   "id": "6108c4be",
   "metadata": {},
   "outputs": [],
   "source": [
    "meta_fn = os.path.join(outdir, '{}.meta.all_columns.xlsx'.format(gse_id))\n",
    "meta.to_excel(meta_fn, index=False)"
   ]
  },
  {
   "cell_type": "markdown",
   "id": "35b534a9",
   "metadata": {},
   "source": [
    "## Save the merged dataframe with most important columns"
   ]
  },
  {
   "cell_type": "code",
   "execution_count": 9,
   "id": "79d018a4",
   "metadata": {},
   "outputs": [],
   "source": [
    "# most of these dropped columns are not needed, empty and some are redundant (specified)\n",
    "# these columns are not dropped explicity with a drop call, but rather I extract only \n",
    "# the final columns I am interesting. The list below serves a book keeping purpose. \n",
    "drop_cols = ['sample_title', # empty\n",
    "             'sample_organism', # redundant with organism\n",
    "             'organism_taxid', \n",
    "             'library_name',\n",
    "             'instrument',\n",
    "             'instrument_model',\n",
    "             'instrument_model_desc',\n",
    "             'srx_link',\n",
    "             'srx_id',\n",
    "             'sample_accession',\n",
    "             'study_accession',\n",
    "             'study_title',\n",
    "             'experiment_accession',\n",
    "             'experiment_title',\n",
    "             'experiment_desc',\n",
    "             'organism_taxid',\n",
    "             'library_name',\n",
    "             'library_strategy',\n",
    "             'library_source',\n",
    "             'library_selection',\n",
    "             'instrument',\n",
    "             'instrument_model',\n",
    "             'instrument_model_desc',\n",
    "             'total_size',\n",
    "             'run_total_spots',\n",
    "             'run_total_bases', \n",
    "             'total_spots',\n",
    "             'library_layout'] # not needed since all HiC data has to be completed with paired data"
   ]
  },
  {
   "cell_type": "code",
   "execution_count": 10,
   "id": "2994a8f9",
   "metadata": {},
   "outputs": [],
   "source": [
    "# setting the final columns\n",
    "final_cols = ['geo_id',\n",
    "             'gsm_id',\n",
    "             'run_accession',\n",
    "             'title',\n",
    "             'source',\n",
    "             'description',\n",
    "             'organism',\n",
    "             'num_reads']\n",
    "\n",
    "# saving a table with the original column names\n",
    "orig_cols_fn = os.path.join(outdir, '{}.meta.major_columns.original.xlsx'.format(gse_id))\n",
    "meta[final_cols].to_excel(orig_cols_fn, index=False)"
   ]
  },
  {
   "cell_type": "code",
   "execution_count": 11,
   "id": "3ffcba79",
   "metadata": {},
   "outputs": [],
   "source": [
    "# extracting the final data\n",
    "final_df = meta[final_cols]\n",
    "final_df.columns = ['GSE ID', 'GSM ID', 'SRR ID',\n",
    "                    'GEO Title', 'GEO Source', 'GEO Description',\n",
    "                    'Organism', 'Number of Reads']"
   ]
  },
  {
   "cell_type": "code",
   "execution_count": 12,
   "id": "8e9772db",
   "metadata": {},
   "outputs": [],
   "source": [
    "# saving a table with the new column names\n",
    "renamed_cols_fn = os.path.join(outdir, '{}.meta.major_columns.renamed.xlsx'.format(gse_id))\n",
    "final_df.to_excel(renamed_cols_fn, index=False)"
   ]
  },
  {
   "cell_type": "code",
   "execution_count": 13,
   "id": "c122b9a5",
   "metadata": {},
   "outputs": [
    {
     "data": {
      "text/html": [
       "<div>\n",
       "<style scoped>\n",
       "    .dataframe tbody tr th:only-of-type {\n",
       "        vertical-align: middle;\n",
       "    }\n",
       "\n",
       "    .dataframe tbody tr th {\n",
       "        vertical-align: top;\n",
       "    }\n",
       "\n",
       "    .dataframe thead th {\n",
       "        text-align: right;\n",
       "    }\n",
       "</style>\n",
       "<table border=\"1\" class=\"dataframe\">\n",
       "  <thead>\n",
       "    <tr style=\"text-align: right;\">\n",
       "      <th></th>\n",
       "      <th>GSE ID</th>\n",
       "      <th>GSM ID</th>\n",
       "      <th>SRR ID</th>\n",
       "      <th>GEO Title</th>\n",
       "      <th>GEO Source</th>\n",
       "      <th>GEO Description</th>\n",
       "      <th>Organism</th>\n",
       "      <th>Number of Reads</th>\n",
       "    </tr>\n",
       "  </thead>\n",
       "  <tbody>\n",
       "    <tr>\n",
       "      <th>0</th>\n",
       "      <td>GSE116193</td>\n",
       "      <td>GSM3212819</td>\n",
       "      <td>SRR7417408</td>\n",
       "      <td>lgs101293_H3K27ac ChIP-seq</td>\n",
       "      <td>H3K27ac ChIP-seq</td>\n",
       "      <td>H3K27ac ChIP-Seq experiment</td>\n",
       "      <td>Homo sapiens</td>\n",
       "      <td>160222938</td>\n",
       "    </tr>\n",
       "    <tr>\n",
       "      <th>1</th>\n",
       "      <td>GSE116193</td>\n",
       "      <td>GSM3212820</td>\n",
       "      <td>SRR7417409</td>\n",
       "      <td>lgs301283_H3K27ac ChIP-seq</td>\n",
       "      <td>H3K27ac ChIP-seq</td>\n",
       "      <td>H3K27ac ChIP-Seq experiment</td>\n",
       "      <td>Homo sapiens</td>\n",
       "      <td>186275286</td>\n",
       "    </tr>\n",
       "    <tr>\n",
       "      <th>2</th>\n",
       "      <td>GSE116193</td>\n",
       "      <td>GSM3212821</td>\n",
       "      <td>SRR7417410</td>\n",
       "      <td>lgs301430_H3K27ac ChIP-seq</td>\n",
       "      <td>H3K27ac ChIP-seq</td>\n",
       "      <td>H3K27ac ChIP-Seq experiment</td>\n",
       "      <td>Homo sapiens</td>\n",
       "      <td>194132394</td>\n",
       "    </tr>\n",
       "    <tr>\n",
       "      <th>3</th>\n",
       "      <td>GSE116193</td>\n",
       "      <td>GSM3212822</td>\n",
       "      <td>SRR7417411</td>\n",
       "      <td>lgs304050_H3K27ac ChIP-seq</td>\n",
       "      <td>H3K27ac ChIP-seq</td>\n",
       "      <td>H3K27ac ChIP-Seq experiment</td>\n",
       "      <td>Homo sapiens</td>\n",
       "      <td>140161088</td>\n",
       "    </tr>\n",
       "    <tr>\n",
       "      <th>4</th>\n",
       "      <td>GSE116193</td>\n",
       "      <td>GSM3212823</td>\n",
       "      <td>SRR7417412</td>\n",
       "      <td>lgs302634_H3K27ac ChIP-seq</td>\n",
       "      <td>H3K27ac ChIP-seq</td>\n",
       "      <td>H3K27ac ChIP-Seq experiment</td>\n",
       "      <td>Homo sapiens</td>\n",
       "      <td>173175154</td>\n",
       "    </tr>\n",
       "    <tr>\n",
       "      <th>...</th>\n",
       "      <td>...</td>\n",
       "      <td>...</td>\n",
       "      <td>...</td>\n",
       "      <td>...</td>\n",
       "      <td>...</td>\n",
       "      <td>...</td>\n",
       "      <td>...</td>\n",
       "      <td>...</td>\n",
       "    </tr>\n",
       "    <tr>\n",
       "      <th>107</th>\n",
       "      <td>GSE116193</td>\n",
       "      <td>GSM3212926</td>\n",
       "      <td>SRR7417515</td>\n",
       "      <td>lgs101645_CTCF HiChIP-seq</td>\n",
       "      <td>CTCF HiChIP-seq</td>\n",
       "      <td>CTCF-mediated HiChIP-Seq; processed data: CTCF...</td>\n",
       "      <td>Homo sapiens</td>\n",
       "      <td>101360268</td>\n",
       "    </tr>\n",
       "    <tr>\n",
       "      <th>108</th>\n",
       "      <td>GSE116193</td>\n",
       "      <td>GSM3212927</td>\n",
       "      <td>SRR7417516</td>\n",
       "      <td>lgs102580_CTCF HiChIP-seq</td>\n",
       "      <td>CTCF HiChIP-seq</td>\n",
       "      <td>CTCF-mediated HiChIP-Seq; processed data: CTCF...</td>\n",
       "      <td>Homo sapiens</td>\n",
       "      <td>214085924</td>\n",
       "    </tr>\n",
       "    <tr>\n",
       "      <th>109</th>\n",
       "      <td>GSE116193</td>\n",
       "      <td>GSM3212928</td>\n",
       "      <td>SRR7417517</td>\n",
       "      <td>lgs102943_CTCF HiChIP-seq</td>\n",
       "      <td>CTCF HiChIP-seq</td>\n",
       "      <td>CTCF-mediated HiChIP-Seq; processed data: CTCF...</td>\n",
       "      <td>Homo sapiens</td>\n",
       "      <td>70671496</td>\n",
       "    </tr>\n",
       "    <tr>\n",
       "      <th>110</th>\n",
       "      <td>GSE116193</td>\n",
       "      <td>GSM3212929</td>\n",
       "      <td>SRR7417518</td>\n",
       "      <td>lgs301315_CTCF HiChIP-seq</td>\n",
       "      <td>CTCF HiChIP-seq</td>\n",
       "      <td>CTCF-mediated HiChIP-Seq; processed data: CTCF...</td>\n",
       "      <td>Homo sapiens</td>\n",
       "      <td>78752034</td>\n",
       "    </tr>\n",
       "    <tr>\n",
       "      <th>111</th>\n",
       "      <td>GSE116193</td>\n",
       "      <td>GSM3212930</td>\n",
       "      <td>SRR7417519</td>\n",
       "      <td>lgs301283_CTCF HiChIP-seq</td>\n",
       "      <td>CTCF HiChIP-seq</td>\n",
       "      <td>CTCF-mediated HiChIP-Seq; processed data: CTCF...</td>\n",
       "      <td>Homo sapiens</td>\n",
       "      <td>107746610</td>\n",
       "    </tr>\n",
       "  </tbody>\n",
       "</table>\n",
       "<p>112 rows × 8 columns</p>\n",
       "</div>"
      ],
      "text/plain": [
       "        GSE ID      GSM ID      SRR ID                   GEO Title  \\\n",
       "0    GSE116193  GSM3212819  SRR7417408  lgs101293_H3K27ac ChIP-seq   \n",
       "1    GSE116193  GSM3212820  SRR7417409  lgs301283_H3K27ac ChIP-seq   \n",
       "2    GSE116193  GSM3212821  SRR7417410  lgs301430_H3K27ac ChIP-seq   \n",
       "3    GSE116193  GSM3212822  SRR7417411  lgs304050_H3K27ac ChIP-seq   \n",
       "4    GSE116193  GSM3212823  SRR7417412  lgs302634_H3K27ac ChIP-seq   \n",
       "..         ...         ...         ...                         ...   \n",
       "107  GSE116193  GSM3212926  SRR7417515   lgs101645_CTCF HiChIP-seq   \n",
       "108  GSE116193  GSM3212927  SRR7417516   lgs102580_CTCF HiChIP-seq   \n",
       "109  GSE116193  GSM3212928  SRR7417517   lgs102943_CTCF HiChIP-seq   \n",
       "110  GSE116193  GSM3212929  SRR7417518   lgs301315_CTCF HiChIP-seq   \n",
       "111  GSE116193  GSM3212930  SRR7417519   lgs301283_CTCF HiChIP-seq   \n",
       "\n",
       "           GEO Source                                    GEO Description  \\\n",
       "0    H3K27ac ChIP-seq                        H3K27ac ChIP-Seq experiment   \n",
       "1    H3K27ac ChIP-seq                        H3K27ac ChIP-Seq experiment   \n",
       "2    H3K27ac ChIP-seq                        H3K27ac ChIP-Seq experiment   \n",
       "3    H3K27ac ChIP-seq                        H3K27ac ChIP-Seq experiment   \n",
       "4    H3K27ac ChIP-seq                        H3K27ac ChIP-Seq experiment   \n",
       "..                ...                                                ...   \n",
       "107   CTCF HiChIP-seq  CTCF-mediated HiChIP-Seq; processed data: CTCF...   \n",
       "108   CTCF HiChIP-seq  CTCF-mediated HiChIP-Seq; processed data: CTCF...   \n",
       "109   CTCF HiChIP-seq  CTCF-mediated HiChIP-Seq; processed data: CTCF...   \n",
       "110   CTCF HiChIP-seq  CTCF-mediated HiChIP-Seq; processed data: CTCF...   \n",
       "111   CTCF HiChIP-seq  CTCF-mediated HiChIP-Seq; processed data: CTCF...   \n",
       "\n",
       "         Organism  Number of Reads  \n",
       "0    Homo sapiens        160222938  \n",
       "1    Homo sapiens        186275286  \n",
       "2    Homo sapiens        194132394  \n",
       "3    Homo sapiens        140161088  \n",
       "4    Homo sapiens        173175154  \n",
       "..            ...              ...  \n",
       "107  Homo sapiens        101360268  \n",
       "108  Homo sapiens        214085924  \n",
       "109  Homo sapiens         70671496  \n",
       "110  Homo sapiens         78752034  \n",
       "111  Homo sapiens        107746610  \n",
       "\n",
       "[112 rows x 8 columns]"
      ]
     },
     "execution_count": 13,
     "metadata": {},
     "output_type": "execute_result"
    }
   ],
   "source": [
    "final_df"
   ]
  },
  {
   "cell_type": "code",
   "execution_count": null,
   "id": "7f8c9050",
   "metadata": {},
   "outputs": [],
   "source": []
  },
  {
   "cell_type": "code",
   "execution_count": null,
   "id": "051d8983",
   "metadata": {},
   "outputs": [],
   "source": []
  },
  {
   "cell_type": "code",
   "execution_count": null,
   "id": "81b29c6d",
   "metadata": {},
   "outputs": [],
   "source": []
  },
  {
   "cell_type": "code",
   "execution_count": null,
   "id": "74dad237",
   "metadata": {},
   "outputs": [],
   "source": []
  },
  {
   "cell_type": "code",
   "execution_count": null,
   "id": "82e22899",
   "metadata": {},
   "outputs": [],
   "source": []
  },
  {
   "cell_type": "code",
   "execution_count": null,
   "id": "755eec19",
   "metadata": {},
   "outputs": [],
   "source": []
  },
  {
   "cell_type": "code",
   "execution_count": null,
   "id": "4654ae62",
   "metadata": {},
   "outputs": [],
   "source": []
  },
  {
   "cell_type": "code",
   "execution_count": null,
   "id": "b9d75641",
   "metadata": {},
   "outputs": [],
   "source": []
  },
  {
   "cell_type": "code",
   "execution_count": null,
   "id": "d66e7440",
   "metadata": {},
   "outputs": [],
   "source": []
  },
  {
   "cell_type": "code",
   "execution_count": null,
   "id": "5fc1e21a",
   "metadata": {},
   "outputs": [],
   "source": []
  },
  {
   "cell_type": "code",
   "execution_count": null,
   "id": "6fdfbf61",
   "metadata": {},
   "outputs": [],
   "source": []
  },
  {
   "cell_type": "code",
   "execution_count": null,
   "id": "7d6b5f81",
   "metadata": {},
   "outputs": [],
   "source": []
  },
  {
   "cell_type": "code",
   "execution_count": null,
   "id": "5c90d2ef",
   "metadata": {},
   "outputs": [],
   "source": []
  }
 ],
 "metadata": {
  "kernelspec": {
   "display_name": "HiChIP DB",
   "language": "python",
   "name": "hichip-db"
  },
  "language_info": {
   "codemirror_mode": {
    "name": "ipython",
    "version": 3
   },
   "file_extension": ".py",
   "mimetype": "text/x-python",
   "name": "python",
   "nbconvert_exporter": "python",
   "pygments_lexer": "ipython3",
   "version": "3.10.2"
  }
 },
 "nbformat": 4,
 "nbformat_minor": 5
}
