{
 "cells": [
  {
   "cell_type": "code",
   "execution_count": 1,
   "id": "9bdf64a3",
   "metadata": {},
   "outputs": [],
   "source": [
    "import argparse\n",
    "from Bio import Entrez\n",
    "import pandas as pd\n",
    "from datetime import date\n",
    "from datetime import datetime\n",
    "import re\n",
    "import os\n",
    "import glob"
   ]
  },
  {
   "cell_type": "markdown",
   "id": "19777507",
   "metadata": {},
   "source": [
    "## Set the Output Path"
   ]
  },
  {
   "cell_type": "code",
   "execution_count": 2,
   "id": "22a8372b",
   "metadata": {},
   "outputs": [],
   "source": [
    "# determining the current year, month and day\n",
    "today = date.today()\n",
    "date_str = today.strftime(\"%Y_%m_%d\")\n",
    "\n",
    "# determining current hour and minute\n",
    "now = datetime.now()\n",
    "time_str = now.strftime(\"%H_%M\")\n",
    "\n",
    "# setting the output filename\n",
    "output = \"GEO_Compare.{}_{}\".format(date_str, time_str)"
   ]
  },
  {
   "cell_type": "code",
   "execution_count": 3,
   "id": "2bdca0ec",
   "metadata": {},
   "outputs": [
    {
     "data": {
      "text/plain": [
       "'GEO_Compare.2022_03_08_21_54'"
      ]
     },
     "execution_count": 3,
     "metadata": {},
     "output_type": "execute_result"
    }
   ],
   "source": [
    "output"
   ]
  },
  {
   "cell_type": "markdown",
   "id": "b0364632",
   "metadata": {},
   "source": [
    "## Find the Second Newest Queried Excel Sheet (Old) and the Newest (New)"
   ]
  },
  {
   "cell_type": "code",
   "execution_count": 4,
   "id": "41f55819",
   "metadata": {},
   "outputs": [],
   "source": [
    "# get a list of filenames containing'Query'\n",
    "cwd = os.getcwd()\n",
    "Query_files = []\n",
    "os.chdir(cwd)\n",
    "for file in glob.glob(\"*.xlsx\"):\n",
    "    if 'Query'.casefold() in file.casefold():\n",
    "        Query_files.append(file)\n",
    "\n",
    "# sort the two lists in descending order\n",
    "Query_files.sort(key=str.lower, reverse=True)\n",
    "\n",
    "old_file = cwd + \"/\" + Query_files[1]\n",
    "new_file = cwd + \"/\" + Query_files[0]"
   ]
  },
  {
   "cell_type": "code",
   "execution_count": 5,
   "id": "e18a3cec",
   "metadata": {},
   "outputs": [],
   "source": [
    "# get the newest HiChIP_Databases Excel and newest Query Excel\n",
    "old_df = pd.read_excel(old_file)\n",
    "new_df = pd.read_excel(new_file)"
   ]
  },
  {
   "cell_type": "markdown",
   "id": "740674e7",
   "metadata": {},
   "source": [
    "##  Compare Old and New GEO IDs"
   ]
  },
  {
   "cell_type": "code",
   "execution_count": 6,
   "id": "66cc475b",
   "metadata": {},
   "outputs": [],
   "source": [
    "# make a regex to extract GEO ID\n",
    "GEO_pattern = re.compile('GSE[0123456789]+')\n",
    "\n",
    "# make a set of old GEO IDs\n",
    "old_GEOs = set()\n",
    "for x in old_df['GEO / Data link'].tolist():\n",
    "    GEO = GEO_pattern.findall(x)\n",
    "    old_GEOs.update(GEO)\n",
    "\n",
    "# make a set of new GEO IDs\n",
    "new_GEOs = set()\n",
    "for x in new_df['GEO / Data link'].tolist():\n",
    "    GEO = GEO_pattern.findall(x)\n",
    "    new_GEOs.update(GEO)\n",
    "\n",
    "# compare the sets of GEO IDs\n",
    "differences_GEOs = new_GEOs.difference(old_GEOs)"
   ]
  },
  {
   "cell_type": "code",
   "execution_count": 7,
   "id": "b354413f",
   "metadata": {},
   "outputs": [],
   "source": [
    "# create an indicate column of papers whose GEO ID is not in the old table \n",
    "bools = []\n",
    "for x in new_df['GEO / Data link'].tolist():\n",
    "    if x in differences_GEOs:\n",
    "        bools.append(True)\n",
    "    else:\n",
    "        bools.append(False)\n",
    "differences_df = new_df.loc[bools]"
   ]
  },
  {
   "cell_type": "code",
   "execution_count": 8,
   "id": "23e45bb9",
   "metadata": {},
   "outputs": [
    {
     "name": "stderr",
     "output_type": "stream",
     "text": [
      "/Users/Cardiff/opt/anaconda3/lib/python3.9/site-packages/pandas/core/frame.py:5176: SettingWithCopyWarning: \n",
      "A value is trying to be set on a copy of a slice from a DataFrame\n",
      "\n",
      "See the caveats in the documentation: https://pandas.pydata.org/pandas-docs/stable/user_guide/indexing.html#returning-a-view-versus-a-copy\n",
      "  return super().fillna(\n"
     ]
    }
   ],
   "source": [
    "# replace na with empty string\n",
    "differences_df.fillna(\"\", inplace=True)"
   ]
  },
  {
   "cell_type": "code",
   "execution_count": 9,
   "id": "73025c0d",
   "metadata": {},
   "outputs": [
    {
     "data": {
      "text/html": [
       "<div>\n",
       "<style scoped>\n",
       "    .dataframe tbody tr th:only-of-type {\n",
       "        vertical-align: middle;\n",
       "    }\n",
       "\n",
       "    .dataframe tbody tr th {\n",
       "        vertical-align: top;\n",
       "    }\n",
       "\n",
       "    .dataframe thead th {\n",
       "        text-align: right;\n",
       "    }\n",
       "</style>\n",
       "<table border=\"1\" class=\"dataframe\">\n",
       "  <thead>\n",
       "    <tr style=\"text-align: right;\">\n",
       "      <th></th>\n",
       "      <th>Paper Title</th>\n",
       "      <th>DOI</th>\n",
       "      <th>Journal</th>\n",
       "      <th>Authors</th>\n",
       "      <th>Year</th>\n",
       "      <th>GEO / Data link</th>\n",
       "      <th>Any other information</th>\n",
       "      <th>Organism</th>\n",
       "      <th>Tissue/Cell Line</th>\n",
       "      <th>Potential HiChIP</th>\n",
       "      <th>Other matched data</th>\n",
       "      <th>Presenter</th>\n",
       "      <th>Date Added</th>\n",
       "    </tr>\n",
       "  </thead>\n",
       "  <tbody>\n",
       "  </tbody>\n",
       "</table>\n",
       "</div>"
      ],
      "text/plain": [
       "Empty DataFrame\n",
       "Columns: [Paper Title, DOI, Journal, Authors, Year, GEO / Data link, Any other information, Organism, Tissue/Cell Line, Potential HiChIP, Other matched data, Presenter, Date Added]\n",
       "Index: []"
      ]
     },
     "execution_count": 9,
     "metadata": {},
     "output_type": "execute_result"
    }
   ],
   "source": [
    "differences_df"
   ]
  },
  {
   "cell_type": "markdown",
   "id": "225bf225",
   "metadata": {},
   "source": [
    "## Save the Output File"
   ]
  },
  {
   "cell_type": "code",
   "execution_count": 10,
   "id": "d591d27e",
   "metadata": {},
   "outputs": [],
   "source": [
    "differences_df.to_excel(output+\".xlsx\", index=False)"
   ]
  }
 ],
 "metadata": {
  "kernelspec": {
   "display_name": "Python 3 (ipykernel)",
   "language": "python",
   "name": "python3"
  },
  "language_info": {
   "codemirror_mode": {
    "name": "ipython",
    "version": 3
   },
   "file_extension": ".py",
   "mimetype": "text/x-python",
   "name": "python",
   "nbconvert_exporter": "python",
   "pygments_lexer": "ipython3",
   "version": "3.9.7"
  }
 },
 "nbformat": 4,
 "nbformat_minor": 5
}
